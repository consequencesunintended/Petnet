{
  "nbformat": 4,
  "nbformat_minor": 0,
  "metadata": {
    "accelerator": "GPU",
    "colab": {
      "name": "TernausNet Segmentation.ipynb",
      "provenance": [],
      "private_outputs": true,
      "collapsed_sections": [],
      "toc_visible": true,
      "include_colab_link": true
    },
    "kernelspec": {
      "display_name": "Python 3",
      "name": "python3"
    }
  },
  "cells": [
    {
      "cell_type": "markdown",
      "metadata": {
        "id": "view-in-github",
        "colab_type": "text"
      },
      "source": [
        "<a href=\"https://colab.research.google.com/github/consequencesunintended/Petnet/blob/master/TernausNet_Segmentation.ipynb\" target=\"_parent\"><img src=\"https://colab.research.google.com/assets/colab-badge.svg\" alt=\"Open In Colab\"/></a>"
      ]
    },
    {
      "cell_type": "markdown",
      "metadata": {
        "colab_type": "text",
        "id": "Xm8gKqd3NjnK"
      },
      "source": [
        "## What is image segmentation?\n",
        "So far you have seen image classification, where the task of the network is to assign a label or class to an input image. However, suppose you want to know where an object is located in the image, the shape of that object, which pixel belongs to which object, etc. In this case you will want to segment the image, i.e., each pixel of the image is given a label. Thus, the task of image segmentation is to train a neural network to output a pixel-wise mask of the image. This helps in understanding the image at a much lower level, i.e., the pixel level. Image segmentation has many applications in medical imaging, self-driving cars and satellite imaging to name a few.\n",
        "\n",
        "The dataset that will be used for this tutorial is the [Oxford-IIIT Pet Dataset](https://www.robots.ox.ac.uk/~vgg/data/pets/), created by Parkhi *et al*. The dataset consists of images, their corresponding labels, and pixel-wise masks. The masks are basically labels for each pixel. Each pixel is given one of three categories :\n",
        "\n",
        "*   Class 1 : Pixel belonging to the pet.\n",
        "*   Class 2 : Pixel bordering the pet.\n",
        "*   Class 3 : None of the above/ Surrounding pixel."
      ]
    },
    {
      "cell_type": "code",
      "metadata": {
        "colab_type": "code",
        "id": "MQmKthrSBCld",
        "colab": {}
      },
      "source": [
        "!pip install tensorflow_datasets"
      ],
      "execution_count": 0,
      "outputs": []
    },
    {
      "cell_type": "code",
      "metadata": {
        "colab_type": "code",
        "id": "YQX7R4bhZy5h",
        "colab": {}
      },
      "source": [
        "try:\n",
        "  # %tensorflow_version only exists in Colab.\n",
        "  %tensorflow_version 2.x\n",
        "except Exception:\n",
        "  pass\n",
        "import tensorflow as tf"
      ],
      "execution_count": 0,
      "outputs": []
    },
    {
      "cell_type": "code",
      "metadata": {
        "colab_type": "code",
        "id": "g87--n2AtyO_",
        "colab": {}
      },
      "source": [
        "import tensorflow_datasets as tfds\n",
        "tfds.disable_progress_bar()\n",
        "\n",
        "from IPython.display import clear_output\n",
        "import matplotlib.pyplot as plt"
      ],
      "execution_count": 0,
      "outputs": []
    },
    {
      "cell_type": "markdown",
      "metadata": {
        "colab_type": "text",
        "id": "oWe0_rQM4JbC"
      },
      "source": [
        "## Download the Oxford-IIIT Pets dataset\n",
        "\n",
        "The dataset is already included in TensorFlow datasets, all that is needed to do is download it. The segmentation masks are included in version 3+."
      ]
    },
    {
      "cell_type": "code",
      "metadata": {
        "colab_type": "code",
        "id": "40ITeStwDwZb",
        "colab": {}
      },
      "source": [
        "dataset, info = tfds.load('oxford_iiit_pet:3.*.*', with_info=True)"
      ],
      "execution_count": 0,
      "outputs": []
    },
    {
      "cell_type": "markdown",
      "metadata": {
        "colab_type": "text",
        "id": "rJcVdj_U4vzf"
      },
      "source": [
        "The following code performs a simple augmentation of flipping an image. In addition,  image is normalized to [0,1]. Finally, as mentioned above the pixels in the segmentation mask are labeled either {1, 2, 3}. For the sake of convenience, let's subtract 1 from the segmentation mask, resulting in labels that are : {0, 1, 2}."
      ]
    },
    {
      "cell_type": "code",
      "metadata": {
        "colab_type": "code",
        "id": "FD60EbcAQqov",
        "colab": {}
      },
      "source": [
        "def normalize(input_image, input_mask):\n",
        "  input_image = tf.cast(input_image, tf.float32) / 255.0\n",
        "  input_mask -= 1\n",
        "  return input_image, input_mask"
      ],
      "execution_count": 0,
      "outputs": []
    },
    {
      "cell_type": "code",
      "metadata": {
        "colab_type": "code",
        "id": "2NPlCnBXQwb1",
        "colab": {}
      },
      "source": [
        "@tf.function\n",
        "def load_image_train(datapoint):\n",
        "  input_image = tf.image.resize(datapoint['image'], (128, 128))\n",
        "  input_mask = tf.image.resize(datapoint['segmentation_mask'], (128, 128))\n",
        "\n",
        "  if tf.random.uniform(()) > 0.5:\n",
        "    input_image = tf.image.flip_left_right(input_image)\n",
        "    input_mask = tf.image.flip_left_right(input_mask)\n",
        "\n",
        "  input_image, input_mask = normalize(input_image, input_mask)\n",
        "\n",
        "  return input_image, input_mask"
      ],
      "execution_count": 0,
      "outputs": []
    },
    {
      "cell_type": "code",
      "metadata": {
        "colab_type": "code",
        "id": "Zf0S67hJRp3D",
        "colab": {}
      },
      "source": [
        "def load_image_test(datapoint):\n",
        "  input_image = tf.image.resize(datapoint['image'], (128, 128))\n",
        "  input_mask = tf.image.resize(datapoint['segmentation_mask'], (128, 128))\n",
        "\n",
        "  input_image, input_mask = normalize(input_image, input_mask)\n",
        "\n",
        "  return input_image, input_mask"
      ],
      "execution_count": 0,
      "outputs": []
    },
    {
      "cell_type": "markdown",
      "metadata": {
        "colab_type": "text",
        "id": "65-qHTjX5VZh"
      },
      "source": [
        "The dataset already contains the required splits of test and train and so let's continue to use the same split."
      ]
    },
    {
      "cell_type": "code",
      "metadata": {
        "colab_type": "code",
        "id": "yHwj2-8SaQli",
        "colab": {}
      },
      "source": [
        "TRAIN_LENGTH = info.splits['train'].num_examples\n",
        "BATCH_SIZE = 50\n",
        "BUFFER_SIZE = 1000\n",
        "STEPS_PER_EPOCH = TRAIN_LENGTH // BATCH_SIZE"
      ],
      "execution_count": 0,
      "outputs": []
    },
    {
      "cell_type": "code",
      "metadata": {
        "colab_type": "code",
        "id": "39fYScNz9lmo",
        "colab": {}
      },
      "source": [
        "train = dataset['train'].map(load_image_train, num_parallel_calls=tf.data.experimental.AUTOTUNE)\n",
        "test = dataset['test'].map(load_image_test)"
      ],
      "execution_count": 0,
      "outputs": []
    },
    {
      "cell_type": "code",
      "metadata": {
        "colab_type": "code",
        "id": "DeFwFDN6EVoI",
        "colab": {}
      },
      "source": [
        "train_dataset = train.cache().shuffle(BUFFER_SIZE).batch(BATCH_SIZE).repeat()\n",
        "train_dataset = train_dataset.prefetch(buffer_size=tf.data.experimental.AUTOTUNE)\n",
        "test_dataset = test.batch(BATCH_SIZE)"
      ],
      "execution_count": 0,
      "outputs": []
    },
    {
      "cell_type": "markdown",
      "metadata": {
        "colab_type": "text",
        "id": "Xa3gMAE_9qNa"
      },
      "source": [
        "Let's take a look at an image example and it's correponding mask from the dataset."
      ]
    },
    {
      "cell_type": "code",
      "metadata": {
        "colab_type": "code",
        "id": "3N2RPAAW9q4W",
        "colab": {}
      },
      "source": [
        "def display(display_list):\n",
        "  plt.figure(figsize=(15, 15))\n",
        "\n",
        "  title = ['Input Image', 'True Mask', 'Predicted Mask']\n",
        "\n",
        "  for i in range(len(display_list)):\n",
        "    plt.subplot(1, len(display_list), i+1)\n",
        "    plt.title(title[i])\n",
        "    plt.imshow(tf.keras.preprocessing.image.array_to_img(display_list[i]))\n",
        "    plt.axis('off')\n",
        "  plt.show()"
      ],
      "execution_count": 0,
      "outputs": []
    },
    {
      "cell_type": "code",
      "metadata": {
        "colab_type": "code",
        "id": "a6u_Rblkteqb",
        "colab": {}
      },
      "source": [
        "for image, mask in train.take(1):\n",
        "  sample_image, sample_mask = image, mask\n",
        "display([sample_image, sample_mask])"
      ],
      "execution_count": 0,
      "outputs": []
    },
    {
      "cell_type": "code",
      "metadata": {
        "id": "R9FJgVIax2x3",
        "colab_type": "code",
        "colab": {}
      },
      "source": [
        "from tensorflow.keras.models import Model\n",
        "from tensorflow.keras.layers import Input\n",
        "from tensorflow.keras.layers import Activation, Reshape\n",
        "from tensorflow.keras.layers import Convolution2D\n",
        "from tensorflow.keras.layers import BatchNormalization\n",
        "from tensorflow.keras.layers import MaxPooling2D\n",
        "from tensorflow.keras.layers import Convolution2DTranspose\n",
        "from tensorflow.keras.layers import concatenate"
      ],
      "execution_count": 0,
      "outputs": []
    },
    {
      "cell_type": "markdown",
      "metadata": {
        "colab_type": "text",
        "id": "FAOe93FRMk3w"
      },
      "source": [
        "## Define the model\n",
        "The model being used here is a modified U-Net called [TernausNet](https://github.com/ternaus/TernausNet). A U-Net consists of an encoder (downsampler) and decoder (upsampler). TernausNet is U-Net with VGG11 Encoder Pre-Trained on ImageNet for Image Segmentation. But for the purpose of this project I tried a completely pre-trained model to evaluate the network on its own.\n",
        "\n",
        "The reason to output three channels is because there are three possible labels for each pixel. Think of this as multi-classification where each pixel is being classified into three classes."
      ]
    },
    {
      "cell_type": "code",
      "metadata": {
        "id": "QWbAiYiyyDEF",
        "colab_type": "code",
        "colab": {}
      },
      "source": [
        "n_labels = 3\n",
        "input_shape = [128,128,3]\n",
        "kernel=3\n",
        "\n",
        "# encoder\n",
        "inputs = Input(shape=input_shape)\n",
        "\n",
        "conv_1 = Convolution2D(3, (kernel, kernel), padding=\"same\")(inputs)\n",
        "conv_1 = BatchNormalization()(conv_1)\n",
        "conv_1 = Activation(\"relu\")(conv_1)\n",
        "\n",
        "conv_2 = Convolution2D(64, (kernel, kernel), padding=\"same\")(conv_1)\n",
        "conv_2 = BatchNormalization()(conv_2)\n",
        "conv_2 = Activation(\"relu\")(conv_2)\n",
        "\n",
        "#128\n",
        "pool_1 = MaxPooling2D((2, 2))(conv_2)\n",
        "#64\n",
        "\n",
        "conv_3 = Convolution2D(64, (kernel, kernel), padding=\"same\")(pool_1)\n",
        "conv_3 = BatchNormalization()(conv_3)\n",
        "conv_3 = Activation(\"relu\")(conv_3)\n",
        "\n",
        "conv_4 = Convolution2D(128, (kernel, kernel), padding=\"same\")(conv_3)\n",
        "conv_4 = BatchNormalization()(conv_4)\n",
        "conv_4 = Activation(\"relu\")(conv_4)\n",
        "\n",
        "#64\n",
        "pool_2 = MaxPooling2D((2, 2))(conv_4)\n",
        "#32\n",
        "\n",
        "conv_5 = Convolution2D(128, (kernel, kernel), padding=\"same\")(pool_2)\n",
        "conv_5 = BatchNormalization()(conv_5)\n",
        "conv_5 = Activation(\"relu\")(conv_5)\n",
        "\n",
        "conv_6 = Convolution2D(256, (kernel, kernel), padding=\"same\")(conv_5)\n",
        "conv_6 = BatchNormalization()(conv_6)\n",
        "conv_6 = Activation(\"relu\")(conv_6)\n",
        "\n",
        "conv_7 = Convolution2D(256, (kernel, kernel), padding=\"same\")(conv_6)\n",
        "conv_7 = BatchNormalization()(conv_7)\n",
        "conv_7 = Activation(\"relu\")(conv_7)\n",
        "\n",
        "#32\n",
        "pool_3 = MaxPooling2D((2, 2))(conv_7)\n",
        "#16\n",
        "\n",
        "conv_8 = Convolution2D(256, (kernel, kernel), padding=\"same\")(pool_3)\n",
        "conv_8 = BatchNormalization()(conv_8)\n",
        "conv_8 = Activation(\"relu\")(conv_8)\n",
        "\n",
        "conv_9 = Convolution2D(512, (kernel, kernel), padding=\"same\")(conv_8)\n",
        "conv_9 = BatchNormalization()(conv_9)\n",
        "conv_9 = Activation(\"relu\")(conv_9)\n",
        "\n",
        "conv_10 = Convolution2D(512, (kernel, kernel), padding=\"same\")(conv_9)\n",
        "conv_10 = BatchNormalization()(conv_10)\n",
        "conv_10 = Activation(\"relu\")(conv_10)\n",
        "\n",
        "#16\n",
        "pool_4 = MaxPooling2D((2, 2))(conv_10)\n",
        "#8\n",
        "\n",
        "conv_11 = Convolution2D(512, (kernel, kernel), padding=\"same\")(pool_4)\n",
        "conv_11 = BatchNormalization()(conv_11)\n",
        "conv_11 = Activation(\"relu\")(conv_11)\n",
        "\n",
        "conv_12 = Convolution2D(512, (kernel, kernel), padding=\"same\")(conv_11)\n",
        "conv_12 = BatchNormalization()(conv_12)\n",
        "conv_12 = Activation(\"relu\")(conv_12)\n",
        "\n",
        "conv_13 = Convolution2D(512, (kernel, kernel), padding=\"same\")(conv_12)\n",
        "conv_13 = BatchNormalization()(conv_13)\n",
        "conv_13 = Activation(\"relu\")(conv_13)\n",
        "\n",
        "#8\n",
        "pool_5 = MaxPooling2D((2, 2))(conv_13)\n",
        "#4\n",
        "\n",
        "print(\"Build enceder done..\")\n",
        "\n",
        "#middle section\n",
        "\n",
        "conv_14 = Convolution2D(512, (kernel, kernel), padding=\"same\")(pool_5)\n",
        "conv_14 = BatchNormalization()(conv_14)\n",
        "conv_14 = Activation(\"relu\")(conv_14)\n",
        "\n",
        "conv_15 = Convolution2D(512, (kernel, kernel), padding=\"same\")(conv_14)\n",
        "conv_15 = BatchNormalization()(conv_15)\n",
        "conv_15 = Activation(\"relu\")(conv_15)\n",
        "\n",
        "print(\"Build midde part done..\")\n",
        "\n",
        "# decoder\n",
        "\n",
        "#4\n",
        "unpool1 = Convolution2DTranspose(256, (kernel, kernel), strides=(2,2), padding=\"same\")(conv_15)\n",
        "#8\n",
        "\n",
        "conv_16 = Convolution2D(256, (kernel, kernel), padding=\"same\")(unpool1)\n",
        "conv_16 = BatchNormalization()(conv_16)\n",
        "conv_16 = Activation(\"relu\")(conv_16)\n",
        "\n",
        "\n",
        "conv_17 = concatenate([conv_16, conv_13])\n",
        "\n",
        "\n",
        "conv_18 = Convolution2D(512, (3, 3), padding=\"same\")(conv_17)\n",
        "conv_18 = BatchNormalization()(conv_18)\n",
        "conv_18 = Activation(\"relu\")(conv_18)\n",
        "\n",
        "#8\n",
        "unpool2 = Convolution2DTranspose(256, (3, 3), strides=(2,2), padding=\"same\")(conv_18)\n",
        "#16\n",
        "\n",
        "conv_19 = Convolution2D(256, (3, 3), padding=\"same\")(unpool2)\n",
        "conv_19 = BatchNormalization()(conv_19)\n",
        "conv_19 = Activation(\"relu\")(conv_19)\n",
        "\n",
        "\n",
        "conv_20 = concatenate([conv_19, conv_10])\n",
        "\n",
        "\n",
        "conv_21 = Convolution2D(512, (3, 3), padding=\"same\")(conv_20)\n",
        "conv_21 = BatchNormalization()(conv_21)\n",
        "conv_21 = Activation(\"relu\")(conv_21)\n",
        "\n",
        "#16\n",
        "unpool3 = Convolution2DTranspose(128, (3, 3), strides=(2,2), padding=\"same\")(conv_21)\n",
        "#32\n",
        "\n",
        "conv_22 = Convolution2D(128, (3, 3), padding=\"same\")(unpool3)\n",
        "conv_22 = BatchNormalization()(conv_22)\n",
        "conv_22 = Activation(\"relu\")(conv_22)\n",
        "\n",
        "\n",
        "conv_23 = concatenate([conv_22, conv_7])\n",
        "\n",
        "\n",
        "conv_24 = Convolution2D(256, (3, 3), padding=\"same\")(conv_23)\n",
        "conv_24 = BatchNormalization()(conv_24)\n",
        "conv_24 = Activation(\"relu\")(conv_24)\n",
        "\n",
        "#32\n",
        "unpool4 = Convolution2DTranspose(64, (3, 3), strides=(2,2), padding=\"same\")(conv_24)\n",
        "#64\n",
        "\n",
        "conv_25 = Convolution2D(64, (3, 3), padding=\"same\")(unpool4)\n",
        "conv_25 = BatchNormalization()(conv_25)\n",
        "conv_25 = Activation(\"relu\")(conv_25)\n",
        "\n",
        "\n",
        "conv_26 = concatenate([conv_25, conv_4])\n",
        "\n",
        "\n",
        "conv_27 = Convolution2D(128, (3, 3), padding=\"same\")(conv_26)\n",
        "conv_27 = BatchNormalization()(conv_27)\n",
        "conv_27 = Activation(\"relu\")(conv_27)\n",
        "\n",
        "#64\n",
        "unpool5 = Convolution2DTranspose(32, (3, 3), strides=(2,2), padding=\"same\")(conv_27)\n",
        "#128\n",
        "\n",
        "conv_28 = Convolution2D(32, (3, 3), padding=\"same\")(unpool5)\n",
        "conv_28 = BatchNormalization()(conv_28)\n",
        "conv_28 = Activation(\"relu\")(conv_28)\n",
        "\n",
        "\n",
        "conv_29 = concatenate([conv_28, conv_2])\n",
        "\n",
        "\n",
        "conv_30 = Convolution2D(n_labels, (3, 3), padding=\"same\")(conv_29)\n",
        "conv_30 = BatchNormalization()(conv_30)\n",
        "conv_30 = Activation(\"relu\")(conv_30)\n",
        "\n",
        "outputs = Activation(\"softmax\")(conv_30)\n",
        "print(\"Build decoder done..\")\n"
      ],
      "execution_count": 0,
      "outputs": []
    },
    {
      "cell_type": "markdown",
      "metadata": {
        "colab_type": "text",
        "id": "j0DGH_4T0VYn"
      },
      "source": [
        "## Train the model\n",
        "Now, all that is left to do is to compile and train the model. The loss being used here is losses.sparse_categorical_crossentropy. The reason to use this loss function is because the network is trying to assign each pixel a label, just like multi-class prediction. In the true segmentation mask, each pixel has either a {0,1,2}. The network here is outputting three channels. Essentially, each channel is trying to learn to predict a class, and losses.sparse_categorical_crossentropy is the recommended loss for such a scenario. Using the output of the network, the label assigned to the pixel is the channel with the highest value. This is what the create_mask function is doing."
      ]
    },
    {
      "cell_type": "code",
      "metadata": {
        "colab_type": "code",
        "id": "6he36HK5uKAc",
        "colab": {}
      },
      "source": [
        "model = Model(inputs=inputs, outputs=outputs, name=\"TernausNet\")\n",
        "\n",
        "from keras import optimizers\n",
        "\n",
        "model.compile(optimizer='adam', loss='sparse_categorical_crossentropy',\n",
        "              metrics=['accuracy'])"
      ],
      "execution_count": 0,
      "outputs": []
    },
    {
      "cell_type": "markdown",
      "metadata": {
        "colab_type": "text",
        "id": "Tc3MiEO2twLS"
      },
      "source": [
        "Let's try out the model to see what it predicts before training."
      ]
    },
    {
      "cell_type": "code",
      "metadata": {
        "colab_type": "code",
        "id": "UwvIKLZPtxV_",
        "colab": {}
      },
      "source": [
        "def create_mask(pred_mask):\n",
        "  pred_mask = tf.argmax(pred_mask, axis=-1)\n",
        "  pred_mask = pred_mask[..., tf.newaxis]\n",
        "  return pred_mask[0]"
      ],
      "execution_count": 0,
      "outputs": []
    },
    {
      "cell_type": "code",
      "metadata": {
        "colab_type": "code",
        "id": "YLNsrynNtx4d",
        "colab": {}
      },
      "source": [
        "def show_predictions(dataset=None, num=1):\n",
        "  if dataset:\n",
        "    for image, mask in dataset.take(num):\n",
        "      pred_mask = model.predict(image)\n",
        "      display([image[0], mask[0], create_mask(pred_mask)])\n",
        "  else:\n",
        "    display([sample_image, sample_mask,\n",
        "             create_mask(model.predict(sample_image[tf.newaxis, ...]))])"
      ],
      "execution_count": 0,
      "outputs": []
    },
    {
      "cell_type": "code",
      "metadata": {
        "colab_type": "code",
        "id": "X_1CC0T4dho3",
        "colab": {}
      },
      "source": [
        "show_predictions()"
      ],
      "execution_count": 0,
      "outputs": []
    },
    {
      "cell_type": "markdown",
      "metadata": {
        "colab_type": "text",
        "id": "22AyVYWQdkgk"
      },
      "source": [
        "Let's observe how the model improves while it is training. To accomplish this task, a callback function is defined below. "
      ]
    },
    {
      "cell_type": "code",
      "metadata": {
        "colab_type": "code",
        "id": "wHrHsqijdmL6",
        "colab": {}
      },
      "source": [
        "class DisplayCallback(tf.keras.callbacks.Callback):\n",
        "  def on_epoch_end(self, epoch, logs=None):\n",
        "    clear_output(wait=True)\n",
        "    show_predictions()\n",
        "    print ('\\nSample Prediction after epoch {}\\n'.format(epoch+1))"
      ],
      "execution_count": 0,
      "outputs": []
    },
    {
      "cell_type": "code",
      "metadata": {
        "colab_type": "code",
        "id": "StKDH_B9t4SD",
        "colab": {}
      },
      "source": [
        "%%time\n",
        "EPOCHS = 40\n",
        "VAL_SUBSPLITS = 5\n",
        "VALIDATION_STEPS = info.splits['test'].num_examples//BATCH_SIZE//VAL_SUBSPLITS\n",
        "\n",
        "model_history = model.fit(train_dataset, epochs=EPOCHS,\n",
        "                          steps_per_epoch=STEPS_PER_EPOCH,\n",
        "                          validation_steps=VALIDATION_STEPS,\n",
        "                          validation_data=test_dataset,\n",
        "                          callbacks=[DisplayCallback()])"
      ],
      "execution_count": 0,
      "outputs": []
    },
    {
      "cell_type": "code",
      "metadata": {
        "colab_type": "code",
        "id": "P_mu0SAbt40Q",
        "colab": {}
      },
      "source": [
        "loss = model_history.history['loss']\n",
        "val_loss = model_history.history['val_loss']\n",
        "\n",
        "epochs = range(EPOCHS)\n",
        "\n",
        "plt.figure()\n",
        "plt.plot(epochs, loss, 'r', label='Training loss')\n",
        "plt.plot(epochs, val_loss, 'bo', label='Validation loss')\n",
        "plt.title('Training and Validation Loss')\n",
        "plt.xlabel('Epoch')\n",
        "plt.ylabel('Loss Value')\n",
        "plt.ylim([0, 1])\n",
        "plt.legend()\n",
        "plt.show()"
      ],
      "execution_count": 0,
      "outputs": []
    },
    {
      "cell_type": "markdown",
      "metadata": {
        "colab_type": "text",
        "id": "unP3cnxo_N72"
      },
      "source": [
        "## Make predictions"
      ]
    },
    {
      "cell_type": "markdown",
      "metadata": {
        "colab_type": "text",
        "id": "7BVXldSo-0mW"
      },
      "source": [
        "Let's make some predictions. In the interest of saving time, the number of epochs was kept small, but you may set this higher to achieve more accurate results."
      ]
    },
    {
      "cell_type": "code",
      "metadata": {
        "colab_type": "code",
        "id": "ikrzoG24qwf5",
        "colab": {}
      },
      "source": [
        "show_predictions(test_dataset, 3)"
      ],
      "execution_count": 0,
      "outputs": []
    }
  ]
}